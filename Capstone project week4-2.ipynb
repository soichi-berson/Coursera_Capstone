{
    "nbformat_minor": 1, 
    "cells": [
        {
            "source": "# Data ##", 
            "cell_type": "markdown", 
            "metadata": {
                "collapsed": true
            }
        }, 
        {
            "source": " ## To serch the location of the Japanese center , we will get the data from the below sources", 
            "cell_type": "markdown", 
            "metadata": {}
        }, 
        {
            "source": " List of all the cities in United States with population density and coordinates: \n \nhttps://en.wikipedia.org/wiki/List_of_United_States_cities_by_population", 
            "cell_type": "markdown", 
            "metadata": {}
        }, 
        {
            "source": "## Following data sources will be needed to extract/generate the required information:", 
            "cell_type": "markdown", 
            "metadata": {}
        }, 
        {
            "source": "### 1. Google Maps API geocoding", 
            "cell_type": "markdown", 
            "metadata": {}
        }, 
        {
            "source": "Centers of candidate areas will be generated algorithmically with approximate addresses of of centers of those areas by the use of Goodle Maps API geocoding ", 
            "cell_type": "markdown", 
            "metadata": {}
        }, 
        {
            "source": "", 
            "cell_type": "markdown", 
            "metadata": {}
        }, 
        {
            "source": "### 2. Four Square API", 
            "cell_type": "markdown", 
            "metadata": {}
        }, 
        {
            "source": " The number of  all venues in each city  and types  in every neighborhood such as restauransts or shops will be obtained using Foursquare API ", 
            "cell_type": "markdown", 
            "metadata": {}
        }, 
        {
            "source": "", 
            "cell_type": "markdown", 
            "metadata": {}
        }, 
        {
            "source": "Using the above data we will first select best city to proceed with based on the values like Population density, number of venues (as we are giving weights to each venue based on its category).", 
            "cell_type": "markdown", 
            "metadata": {}
        }, 
        {
            "source": "Once we select a city, we then go hunting for Localities. Again, we do it using the same approach i.e. based on the scores of venues in each locality", 
            "cell_type": "markdown", 
            "metadata": {}
        }, 
        {
            "source": "", 
            "cell_type": "markdown", 
            "metadata": {}
        }
    ], 
    "metadata": {
        "kernelspec": {
            "display_name": "Python 3.6", 
            "name": "python3", 
            "language": "python"
        }, 
        "language_info": {
            "mimetype": "text/x-python", 
            "nbconvert_exporter": "python", 
            "version": "3.6.8", 
            "name": "python", 
            "file_extension": ".py", 
            "pygments_lexer": "ipython3", 
            "codemirror_mode": {
                "version": 3, 
                "name": "ipython"
            }
        }
    }, 
    "nbformat": 4
}