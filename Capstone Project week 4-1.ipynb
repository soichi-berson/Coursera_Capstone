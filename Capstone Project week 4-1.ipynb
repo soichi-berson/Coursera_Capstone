{
    "nbformat_minor": 1, 
    "cells": [
        {
            "source": "# Capstone Project - The Battle of Neighbourhoods #\n\n\n\n\n", 
            "cell_type": "markdown", 
            "metadata": {
                "collapsed": true
            }
        }, 
        {
            "source": "", 
            "cell_type": "markdown", 
            "metadata": {}
        }, 
        {
            "source": "", 
            "cell_type": "markdown", 
            "metadata": {}
        }, 
        {
            "source": "## Introdoction / Business Problem  ##", 
            "cell_type": "markdown", 
            "metadata": {}
        }, 
        {
            "source": "### Nowadays, the Japanese government has identified the culture industry as one of five potential areas of growth and established a new Creative Industries Promotion Office to promote cultural and creative industries. And they have introduced Japanese culture such as Japanese pop culture, animation,arts or Japanese foods).These Japanese cultural creative industries are called 'Cool Japan' (https://en.wikipedia.org/wiki/Cool_Japan) .  ###\n", 
            "cell_type": "markdown", 
            "metadata": {}
        }, 
        {
            "source": "", 
            "cell_type": "markdown", 
            "metadata": {}
        }, 
        {
            "source": "### Through this promotion, Japanese shops or stores have been founded all over the world. For example, there is a 'Japan House' (https://www.japanhouse.jp/)  which is the center  to introduce Japanese arts, pop culture or traditional Japanese foods. This Japan House is located in Los Angeles, Sao Paulo or London.  \n", 
            "cell_type": "markdown", 
            "metadata": {}
        }, 
        {
            "source": "\n### And then, the question of this project is as follows. ###", 
            "cell_type": "markdown", 
            "metadata": {}
        }, 
        {
            "source": "# To promote the project of 'Cool Japan' and introduce Japanese culture or food , where can we found a Japanese center  in the USA? #", 
            "cell_type": "markdown", 
            "metadata": {}
        }, 
        {
            "source": "## An Ideal location has to be ", 
            "cell_type": "markdown", 
            "metadata": {}
        }, 
        {
            "source": "## 1. Near parks or theaters   \n### As this is a cultural center,  we need the place where the people who are interested in caltual things gather", 
            "cell_type": "markdown", 
            "metadata": {}
        }, 
        {
            "source": "## 2. Near retaurants, cafes, and food malls  ", 
            "cell_type": "markdown", 
            "metadata": {}
        }, 
        {
            "source": "### The place where people want to go to restaurans, cafes and food malls is preferred ,  because we introduce japanese foods", 
            "cell_type": "markdown", 
            "metadata": {}
        }, 
        {
            "execution_count": null, 
            "cell_type": "code", 
            "metadata": {}, 
            "outputs": [], 
            "source": ""
        }
    ], 
    "metadata": {
        "kernelspec": {
            "display_name": "Python 3.6", 
            "name": "python3", 
            "language": "python"
        }, 
        "language_info": {
            "mimetype": "text/x-python", 
            "nbconvert_exporter": "python", 
            "version": "3.6.8", 
            "name": "python", 
            "file_extension": ".py", 
            "pygments_lexer": "ipython3", 
            "codemirror_mode": {
                "version": 3, 
                "name": "ipython"
            }
        }
    }, 
    "nbformat": 4
}